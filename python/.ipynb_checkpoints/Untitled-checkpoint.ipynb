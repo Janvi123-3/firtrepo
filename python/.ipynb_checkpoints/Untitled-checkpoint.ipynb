{
 "cells": [
  {
   "cell_type": "code",
   "execution_count": null,
   "id": "fad191de",
   "metadata": {},
   "outputs": [],
   "source": [
    "from chatterbot import ChatBot\n",
    "bot=ChatBot('Eva')"
   ]
  },
  {
   "cell_type": "code",
   "execution_count": 3,
   "id": "08a57357",
   "metadata": {},
   "outputs": [
    {
     "name": "stdout",
     "output_type": "stream",
     "text": [
      "Requirement already satisfied: chatterbot==1.0.4 in d:\\python\\lib\\site-packages (1.0.4)\n",
      "Requirement already satisfied: chatterbot-corpus<1.3,>=1.2 in d:\\python\\lib\\site-packages (from chatterbot==1.0.4) (1.2.0)\n",
      "Requirement already satisfied: pint>=0.8.1 in d:\\python\\lib\\site-packages (from chatterbot==1.0.4) (0.19.1)\n",
      "Requirement already satisfied: sqlalchemy<1.3,>=1.2 in d:\\python\\lib\\site-packages (from chatterbot==1.0.4) (1.2.19)\n",
      "Requirement already satisfied: pymongo<4.0,>=3.3 in d:\\python\\lib\\site-packages (from chatterbot==1.0.4) (3.12.3)\n",
      "Requirement already satisfied: nltk<4.0,>=3.2 in d:\\python\\lib\\site-packages (from chatterbot==1.0.4) (3.6.1)\n",
      "Requirement already satisfied: mathparse<0.2,>=0.1 in d:\\python\\lib\\site-packages (from chatterbot==1.0.4) (0.1.2)\n",
      "Requirement already satisfied: python-dateutil<2.8,>=2.7 in d:\\python\\lib\\site-packages (from chatterbot==1.0.4) (2.7.5)\n",
      "Requirement already satisfied: PyYAML<4.0,>=3.12 in d:\\python\\lib\\site-packages (from chatterbot-corpus<1.3,>=1.2->chatterbot==1.0.4) (3.13)\n",
      "Requirement already satisfied: regex in d:\\python\\lib\\site-packages (from nltk<4.0,>=3.2->chatterbot==1.0.4) (2021.4.4)\n",
      "Requirement already satisfied: tqdm in d:\\python\\lib\\site-packages (from nltk<4.0,>=3.2->chatterbot==1.0.4) (4.59.0)\n",
      "Requirement already satisfied: joblib in d:\\python\\lib\\site-packages (from nltk<4.0,>=3.2->chatterbot==1.0.4) (1.0.1)\n",
      "Requirement already satisfied: click in d:\\python\\lib\\site-packages (from nltk<4.0,>=3.2->chatterbot==1.0.4) (7.1.2)\n",
      "Requirement already satisfied: six>=1.5 in d:\\python\\lib\\site-packages (from python-dateutil<2.8,>=2.7->chatterbot==1.0.4) (1.15.0)\n",
      "Note: you may need to restart the kernel to use updated packages.\n"
     ]
    }
   ],
   "source": [
    "#pip install chatterbot==1.0.4"
   ]
  },
  {
   "cell_type": "code",
   "execution_count": null,
   "id": "e4c829af",
   "metadata": {},
   "outputs": [],
   "source": [
    "bot = ChatBot(\n",
    " 'Eva',\n",
    " storage_adapter='chatterbot.storage.SQLStorageAdapter',\n",
    " database_uri='sqlite:///database.sqlite3'\n",
    ")"
   ]
  },
  {
   "cell_type": "code",
   "execution_count": null,
   "id": "347967bd",
   "metadata": {},
   "outputs": [],
   "source": [
    "bot = ChatBot(\n",
    " 'Eva', \n",
    " logic_adapters=[\n",
    " 'chatterbot.logic.BestMatch',\n",
    " 'chatterbot.logic.TimeLogicAdapter'],\n",
    ")\n"
   ]
  },
  {
   "cell_type": "code",
   "execution_count": null,
   "id": "22abc58c",
   "metadata": {},
   "outputs": [],
   "source": [
    "from chatterbot.trainers import ListTrainer\n",
    "trainer = ListTrainer(bot)\n",
    "trainer.train([\n",
    "'Hi',\n",
    "'Hello',\n",
    "'I need your assistance regarding my order',\n",
    "'Please, Provide me with your order id',\n",
    "'I have a complaint.',\n",
    "'Please elaborate, your concern',\n",
    "'How long it will take to receive an order ?',\n",
    "'An order takes 3-5 Business days to get delivered.',\n",
    "'Okay Thanks',\n",
    "'No Problem! Have a Good Day!'\n",
    "])"
   ]
  },
  {
   "cell_type": "code",
   "execution_count": null,
   "id": "3a78f812",
   "metadata": {},
   "outputs": [],
   "source": []
  },
  {
   "cell_type": "code",
   "execution_count": null,
   "id": "6492ab24",
   "metadata": {},
   "outputs": [],
   "source": []
  }
 ],
 "metadata": {
  "kernelspec": {
   "display_name": "Python 3",
   "language": "python",
   "name": "python3"
  },
  "language_info": {
   "codemirror_mode": {
    "name": "ipython",
    "version": 3
   },
   "file_extension": ".py",
   "mimetype": "text/x-python",
   "name": "python",
   "nbconvert_exporter": "python",
   "pygments_lexer": "ipython3",
   "version": "3.8.8"
  }
 },
 "nbformat": 4,
 "nbformat_minor": 5
}
